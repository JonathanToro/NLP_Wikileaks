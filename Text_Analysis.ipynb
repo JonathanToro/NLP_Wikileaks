{
 "cells": [
  {
   "cell_type": "code",
   "execution_count": 1,
   "metadata": {
    "collapsed": false
   },
   "outputs": [
    {
     "data": {
      "text/html": [
       "<style>.container { width:100% !important; }</style>"
      ],
      "text/plain": [
       "<IPython.core.display.HTML object>"
      ]
     },
     "metadata": {},
     "output_type": "display_data"
    }
   ],
   "source": [
    "from IPython.core.display import display, HTML\n",
    "display(HTML(\"<style>.container { width:100% !important; }</style>\"))"
   ]
  },
  {
   "cell_type": "code",
   "execution_count": 2,
   "metadata": {
    "collapsed": false
   },
   "outputs": [
    {
     "name": "stdout",
     "output_type": "stream",
     "text": [
      "Populating the interactive namespace from numpy and matplotlib\n"
     ]
    }
   ],
   "source": [
    "%pylab inline\n",
    "\n",
    "import pandas as pd\n",
    "import numpy as np\n",
    "import warnings\n",
    "from multiprocessing.dummy import Pool as ThreadPool \n",
    "import dateutil.parser\n",
    "import nltk\n",
    "import os\n",
    "from nltk.corpus import stopwords\n",
    "from textblob import TextBlob\n",
    "from nltk.tokenize import word_tokenize\n",
    "from nltk.chunk import ne_chunk\n",
    "from nltk.tag import pos_tag\n",
    "import sklearn\n",
    "from sklearn.feature_extraction.text import CountVectorizer, TfidfTransformer, TfidfVectorizer\n",
    "from sklearn.naive_bayes import MultinomialNB\n",
    "from sklearn.metrics import classification_report, f1_score, accuracy_score, confusion_matrix \n",
    "from multiprocessing import Pool\n",
    "from nltk import WordNetLemmatizer\n",
    "import matplotlib.pyplot as plt\n",
    "from sklearn.decomposition import TruncatedSVD\n",
    "from sklearn.preprocessing import Normalizer\n",
    "from sklearn.cluster import KMeans, MiniBatchKMeans\n",
    "from nltk.stem.lancaster import LancasterStemmer\n",
    "\n",
    "warnings.filterwarnings('ignore')"
   ]
  },
  {
   "cell_type": "markdown",
   "metadata": {},
   "source": [
    "## Read in the text and clean the data"
   ]
  },
  {
   "cell_type": "code",
   "execution_count": 3,
   "metadata": {
    "collapsed": false
   },
   "outputs": [],
   "source": [
    "df = pd.read_csv(\"Complete_data.csv\")"
   ]
  },
  {
   "cell_type": "code",
   "execution_count": 4,
   "metadata": {
    "collapsed": false
   },
   "outputs": [
    {
     "name": "stdout",
     "output_type": "stream",
     "text": [
      "<class 'pandas.core.frame.DataFrame'>\n",
      "RangeIndex: 44912 entries, 0 to 44911\n",
      "Data columns (total 6 columns):\n",
      "Unnamed: 0    44912 non-null int64\n",
      "Date          44912 non-null object\n",
      "From          44912 non-null object\n",
      "To            44912 non-null object\n",
      "Subject       44912 non-null object\n",
      "Content       44457 non-null object\n",
      "dtypes: int64(1), object(5)\n",
      "memory usage: 2.1+ MB\n"
     ]
    }
   ],
   "source": [
    "df.info()"
   ]
  },
  {
   "cell_type": "code",
   "execution_count": 5,
   "metadata": {
    "collapsed": false
   },
   "outputs": [],
   "source": [
    "\n",
    "x = list(range(0,len(df)-1))\n",
    "for i in x:\n",
    "    if \"html\" in str(df[\"Content\"][i]):\n",
    "        df.drop([i], inplace = True)"
   ]
  },
  {
   "cell_type": "code",
   "execution_count": 6,
   "metadata": {
    "collapsed": false,
    "scrolled": true
   },
   "outputs": [],
   "source": [
    "df.drop(\"Unnamed: 0\",1,inplace = True)\n",
    "df.fillna(\"Not Available\", inplace = True)"
   ]
  },
  {
   "cell_type": "code",
   "execution_count": 7,
   "metadata": {
    "collapsed": false
   },
   "outputs": [],
   "source": [
    "#convert the dates in the emails to a datetime object\n",
    "def to_date(datestring):\n",
    "    date = dateutil.parser.parse(datestring)\n",
    "    return date\n",
    "\n",
    "df[\"Date\"] = df[\"Date\"].apply(to_date)"
   ]
  },
  {
   "cell_type": "code",
   "execution_count": 8,
   "metadata": {
    "collapsed": false
   },
   "outputs": [],
   "source": [
    "count = 0\n",
    "for i in df[\"Content\"]:\n",
    "    if \"html\" in i:\n",
    "        df = df.drop(df.index[count])\n",
    "    count += 1"
   ]
  },
  {
   "cell_type": "code",
   "execution_count": 9,
   "metadata": {
    "collapsed": true
   },
   "outputs": [],
   "source": [
    "df[\"Content\"] = df[\"Content\"].apply(lambda x: x.replace(\"http\", ''))\n",
    "df[\"Content\"] = df[\"Content\"].apply(lambda x: x.replace(\".com\", ''))\n",
    "df[\"Content\"] = df[\"Content\"].apply(lambda x: x.replace(\"www\", ''))"
   ]
  },
  {
   "cell_type": "code",
   "execution_count": 10,
   "metadata": {
    "collapsed": false
   },
   "outputs": [],
   "source": [
    "common_html = [\"blockquote\", 'body', 'center', \"del\", 'div', 'font', 'head', ' hr ', 'block', 'align', '0px', '3d', 'arial', 'background', 'bgcolor', ' br ', 'cellpadding', 'cellspacing',\n",
    "              'div', 'font', 'height', 'helvetica','href', 'img', 'valign', 'width', 'strong', 'serif', 'sans', ' alt ', 'display', 'src', 'style', ' tr ', 'tdtable', ' td ', 'tdtr', ' ef '\n",
    "              'png', 'text', ' id ', 'gov', 'net']\n",
    "\n",
    "for i in common_html:\n",
    "    df[\"Content\"] = df[\"Content\"].apply(lambda x: x.replace(i, ''))"
   ]
  },
  {
   "cell_type": "code",
   "execution_count": 11,
   "metadata": {
    "collapsed": true
   },
   "outputs": [],
   "source": [
    "from nltk.stem.wordnet import WordNetLemmatizer #To download corpora: python -m    nltk.downloader all\n",
    "lmtzr=WordNetLemmatizer()\n",
    "df[\"Content\"] = df[\"Content\"].apply(lambda x: \" \".join(lmtzr.lemmatize(word) for word in x.split(\" \")))"
   ]
  },
  {
   "cell_type": "code",
   "execution_count": 12,
   "metadata": {
    "collapsed": true
   },
   "outputs": [],
   "source": [
    "text = []\n",
    "for i in df[\"Content\"]:\n",
    "    text.append(i)"
   ]
  },
  {
   "cell_type": "code",
   "execution_count": 13,
   "metadata": {
    "collapsed": false
   },
   "outputs": [],
   "source": [
    "import pickle \n",
    "\n",
    "with open('text.pkl', 'wb') as f:\n",
    "    pickle.dump(text,f)"
   ]
  },
  {
   "cell_type": "code",
   "execution_count": 14,
   "metadata": {
    "collapsed": false
   },
   "outputs": [
    {
     "data": {
      "text/plain": [
       "39639"
      ]
     },
     "execution_count": 14,
     "metadata": {},
     "output_type": "execute_result"
    }
   ],
   "source": [
    "len(text)"
   ]
  },
  {
   "cell_type": "code",
   "execution_count": 15,
   "metadata": {
    "collapsed": false
   },
   "outputs": [
    {
     "data": {
      "text/plain": [
       "93438257"
      ]
     },
     "execution_count": 15,
     "metadata": {},
     "output_type": "execute_result"
    }
   ],
   "source": [
    "count = 0\n",
    "for i in text:\n",
    "    for word in i:\n",
    "        count += 1\n",
    "count"
   ]
  },
  {
   "cell_type": "code",
   "execution_count": 16,
   "metadata": {
    "collapsed": false
   },
   "outputs": [],
   "source": [
    "vectorizer = CountVectorizer(min_df = 50, max_df = .1,stop_words = 'english')\n",
    "dtm = vectorizer.fit_transform(text)"
   ]
  },
  {
   "cell_type": "markdown",
   "metadata": {},
   "source": [
    "## Using LDA for topic modeling"
   ]
  },
  {
   "cell_type": "code",
   "execution_count": 17,
   "metadata": {
    "collapsed": true
   },
   "outputs": [],
   "source": [
    "from sklearn.feature_extraction.text import CountVectorizer\n",
    "from gensim import corpora, models, similarities, matutils "
   ]
  },
  {
   "cell_type": "code",
   "execution_count": 18,
   "metadata": {
    "collapsed": false
   },
   "outputs": [
    {
     "data": {
      "text/plain": [
       "(9657, 39639)"
      ]
     },
     "execution_count": 18,
     "metadata": {},
     "output_type": "execute_result"
    }
   ],
   "source": [
    "doc_vecs = vectorizer.transform(text).transpose()\n",
    "doc_vecs.shape"
   ]
  },
  {
   "cell_type": "code",
   "execution_count": 19,
   "metadata": {
    "collapsed": false
   },
   "outputs": [],
   "source": [
    "corpus = matutils.Sparse2Corpus(doc_vecs)"
   ]
  },
  {
   "cell_type": "code",
   "execution_count": 20,
   "metadata": {
    "collapsed": false
   },
   "outputs": [],
   "source": [
    "id2word = dict((v, k) for k, v in vectorizer.vocabulary_.items())"
   ]
  },
  {
   "cell_type": "code",
   "execution_count": 21,
   "metadata": {
    "collapsed": false,
    "scrolled": true
   },
   "outputs": [
    {
     "data": {
      "text/plain": [
       "9657"
      ]
     },
     "execution_count": 21,
     "metadata": {},
     "output_type": "execute_result"
    }
   ],
   "source": [
    "len(id2word)"
   ]
  },
  {
   "cell_type": "code",
   "execution_count": 22,
   "metadata": {
    "collapsed": false,
    "scrolled": true
   },
   "outputs": [],
   "source": [
    "lda = models.LdaMulticore(corpus, id2word=id2word, num_topics=20, passes=20)"
   ]
  },
  {
   "cell_type": "code",
   "execution_count": 24,
   "metadata": {
    "collapsed": false
   },
   "outputs": [
    {
     "data": {
      "text/plain": [
       "[(0,\n",
       "  '0.015*\"00\" + 0.011*\"oct\" + 0.009*\"cell\" + 0.008*\"dinner\" + 0.008*\"wjc\" + 0.007*\"tina\" + 0.007*\"friday\" + 0.007*\"ny\" + 0.006*\"fran\" + 0.006*\"saturday\"'),\n",
       " (1,\n",
       "  '0.019*\"health\" + 0.016*\"gun\" + 0.015*\"court\" + 0.012*\"care\" + 0.012*\"woman\" + 0.011*\"hangout\" + 0.010*\"supreme\" + 0.008*\"act\" + 0.008*\"site\" + 0.007*\"justice\"'),\n",
       " (2,\n",
       "  '0.027*\"intended\" + 0.018*\"linkedin\" + 0.016*\"recipient\" + 0.016*\"confidential\" + 0.016*\"copy\" + 0.016*\"sender\" + 0.015*\"error\" + 0.014*\"communication\" + 0.013*\"attachment\" + 0.012*\"notify\"'),\n",
       " (3,\n",
       "  '0.020*\"sander\" + 0.017*\"candidate\" + 0.017*\"republican\" + 0.014*\"democratic\" + 0.013*\"trump\" + 0.013*\"iowa\" + 0.012*\"voter\" + 0.011*\"democrat\" + 0.011*\"bernie\" + 0.010*\"vote\"'),\n",
       " (4,\n",
       "  '0.018*\"donate\" + 0.014*\"united\" + 0.013*\"act\" + 0.013*\"contribution\" + 0.011*\"citizen\" + 0.011*\"donation\" + 0.009*\"chip\" + 0.009*\"election\" + 0.009*\"endcitizensunited\" + 0.009*\"supporter\"'),\n",
       " (5,\n",
       "  '0.060*\"md5\" + 0.045*\"actblue\" + 0.036*\"contribute\" + 0.034*\"secure\" + 0.030*\"refcode\" + 0.024*\"express\" + 0.022*\"true\" + 0.020*\"25\" + 0.016*\"recurring\" + 0.013*\"honda\"'),\n",
       " (6,\n",
       "  '0.045*\"utm\" + 0.032*\"energy\" + 0.030*\"climate\" + 0.015*\"content\" + 0.014*\"link\" + 0.014*\"clean\" + 0.013*\"site\" + 0.011*\"source\" + 0.011*\"im\" + 0.010*\"ct\"'),\n",
       " (7,\n",
       "  '0.054*\"size\" + 0.051*\"span\" + 0.035*\"class\" + 0.032*\"table\" + 0.032*\"color\" + 0.027*\"margin\" + 0.025*\"border\" + 0.024*\"100\" + 0.023*\"knox\" + 0.016*\"pub\"'),\n",
       " (8,\n",
       "  '0.007*\"school\" + 0.006*\"community\" + 0.006*\"university\" + 0.006*\"program\" + 0.005*\"research\" + 0.005*\"education\" + 0.005*\"project\" + 0.005*\"manage\" + 0.004*\"track\" + 0.004*\"join\"'),\n",
       " (9,\n",
       "  '0.022*\"jake\" + 0.018*\"jennifer\" + 0.017*\"sullivan\" + 0.017*\"palmieri\" + 0.016*\"dan\" + 0.016*\"robby\" + 0.016*\"huma\" + 0.016*\"grunwald\" + 0.014*\"jim\" + 0.013*\"kristina\"'),\n",
       " (10,\n",
       "  '0.018*\"link\" + 0.015*\"washingtonpost\" + 0.014*\"flint\" + 0.010*\"la\" + 0.009*\"nh\" + 0.008*\"medium\" + 0.007*\"mayor\" + 0.006*\"photo\" + 0.006*\"sc\" + 0.006*\"carolina\"'),\n",
       " (11,\n",
       "  '0.060*\"georgetown\" + 0.046*\"edu\" + 0.037*\"ch\" + 0.037*\"jsp\" + 0.033*\"r20\" + 0.033*\"tn\" + 0.032*\"rs6\" + 0.029*\"cuba\" + 0.012*\"cuban\" + 0.012*\"constantcontact\"'),\n",
       " (12,\n",
       "  '0.006*\"lot\" + 0.005*\"really\" + 0.005*\"got\" + 0.005*\"life\" + 0.004*\"woman\" + 0.004*\"believe\" + 0.004*\"better\" + 0.004*\"asked\" + 0.004*\"long\" + 0.004*\"story\"'),\n",
       " (13,\n",
       "  '0.012*\"eryn\" + 0.010*\"feb\" + 0.009*\"sepp\" + 0.008*\"mar\" + 0.007*\"sara\" + 0.007*\"jan\" + 0.006*\"ipad\" + 0.006*\"happy\" + 0.006*\"dec\" + 0.006*\"cell\"'),\n",
       " (14,\n",
       "  '0.013*\"security\" + 0.010*\"foreign\" + 0.010*\"foundation\" + 0.009*\"world\" + 0.008*\"united\" + 0.008*\"ernment\" + 0.007*\"secretary\" + 0.007*\"iran\" + 0.007*\"war\" + 0.006*\"israel\"'),\n",
       " (15,\n",
       "  '0.047*\"google\" + 0.042*\"calendar\" + 0.039*\"javascript\" + 0.036*\"7d\" + 0.036*\"7b\" + 0.036*\"cvml\" + 0.024*\"mfisher\" + 0.024*\"milium\" + 0.021*\"fisher\" + 0.015*\"margolis\"'),\n",
       " (16,\n",
       "  '0.033*\"sander\" + 0.024*\"trump\" + 0.022*\"mccain\" + 0.019*\"bernie\" + 0.017*\"mms\" + 0.017*\"tveyes\" + 0.017*\"report\" + 0.015*\"aspx\" + 0.015*\"clip\" + 0.013*\"playbackportal\"'),\n",
       " (17,\n",
       "  '0.011*\"cheryl\" + 0.011*\"department\" + 0.009*\"committee\" + 0.008*\"review\" + 0.008*\"memo\" + 0.007*\"request\" + 0.007*\"draft\" + 0.007*\"secretary\" + 0.006*\"document\" + 0.006*\"process\"'),\n",
       " (18,\n",
       "  '0.036*\"2f\" + 0.034*\"footlocker\" + 0.024*\"3a\" + 0.022*\"30a142167a399d9be2c1b7c32e192bd2\" + 0.018*\"twitter\" + 0.017*\"gmf\" + 0.016*\"sid\" + 0.016*\"aspx\" + 0.016*\"redirect\" + 0.016*\"facebook\"'),\n",
       " (19,\n",
       "  '0.022*\"tax\" + 0.009*\"jan\" + 0.007*\"dec\" + 0.007*\"trade\" + 0.007*\"rate\" + 0.007*\"budget\" + 0.006*\"reform\" + 0.006*\"proposal\" + 0.006*\"bank\" + 0.006*\"job\"')]"
      ]
     },
     "execution_count": 24,
     "metadata": {},
     "output_type": "execute_result"
    }
   ],
   "source": [
    "lda.print_topics(num_words=10, num_topics=20)"
   ]
  },
  {
   "cell_type": "code",
   "execution_count": 25,
   "metadata": {
    "collapsed": false
   },
   "outputs": [
    {
     "data": {
      "text/plain": [
       "[('link', 0.017648715565863487),\n",
       " ('washingtonpost', 0.015342111955968614),\n",
       " ('flint', 0.0144931768504082),\n",
       " ('la', 0.0099051870806396384),\n",
       " ('nh', 0.0092096088771816947),\n",
       " ('medium', 0.0081331370063462954),\n",
       " ('mayor', 0.0071915564926344749),\n",
       " ('photo', 0.006330740338487427),\n",
       " ('sc', 0.0062228890455594005),\n",
       " ('carolina', 0.0060668431592765647)]"
      ]
     },
     "execution_count": 25,
     "metadata": {},
     "output_type": "execute_result"
    }
   ],
   "source": [
    "sorted(lda.show_topic(10, topn=10), key=lambda x: x[1], reverse=True) [:10]"
   ]
  },
  {
   "cell_type": "code",
   "execution_count": 26,
   "metadata": {
    "collapsed": false
   },
   "outputs": [
    {
     "data": {
      "text/plain": [
       "[('health', 0.018995189242584684),\n",
       " ('gun', 0.015730246963452255),\n",
       " ('court', 0.015379379846338574),\n",
       " ('care', 0.012370121600993451),\n",
       " ('woman', 0.011824201289791871),\n",
       " ('hangout', 0.011223293173734579),\n",
       " ('supreme', 0.010131898510740828),\n",
       " ('act', 0.0082532251485959388),\n",
       " ('site', 0.0080939500198908155),\n",
       " ('justice', 0.0073003484335017899)]"
      ]
     },
     "execution_count": 26,
     "metadata": {},
     "output_type": "execute_result"
    }
   ],
   "source": [
    "sorted(lda.show_topic(1, topn=10), key=lambda x: x[1], reverse=True) [:10]"
   ]
  },
  {
   "cell_type": "code",
   "execution_count": 27,
   "metadata": {
    "collapsed": true
   },
   "outputs": [],
   "source": [
    "# Transform the docs from the word space to the topic space (like \"transform\" in sklearn)\n",
    "lda_corpus = lda[corpus]"
   ]
  },
  {
   "cell_type": "code",
   "execution_count": 29,
   "metadata": {
    "collapsed": true
   },
   "outputs": [],
   "source": [
    "lda_docs = [doc for doc in lda_corpus]"
   ]
  },
  {
   "cell_type": "code",
   "execution_count": 33,
   "metadata": {
    "collapsed": false
   },
   "outputs": [
    {
     "data": {
      "text/plain": [
       "39639"
      ]
     },
     "execution_count": 33,
     "metadata": {},
     "output_type": "execute_result"
    }
   ],
   "source": [
    "len(lda_docs)"
   ]
  },
  {
   "cell_type": "code",
   "execution_count": 28,
   "metadata": {
    "collapsed": true
   },
   "outputs": [],
   "source": [
    "np.save('lda.npy', lda)"
   ]
  },
  {
   "cell_type": "code",
   "execution_count": 30,
   "metadata": {
    "collapsed": true
   },
   "outputs": [],
   "source": [
    "np.save('lda_docs.npy',lda_docs)"
   ]
  },
  {
   "cell_type": "code",
   "execution_count": 74,
   "metadata": {
    "collapsed": true
   },
   "outputs": [],
   "source": [
    "topics_matrix = lda.show_topics(formatted=False, num_words=10, num_topics = 20)"
   ]
  },
  {
   "cell_type": "code",
   "execution_count": 75,
   "metadata": {
    "collapsed": false
   },
   "outputs": [
    {
     "data": {
      "text/plain": [
       "20"
      ]
     },
     "execution_count": 75,
     "metadata": {},
     "output_type": "execute_result"
    }
   ],
   "source": [
    "len(topics_matrix)"
   ]
  },
  {
   "cell_type": "code",
   "execution_count": 76,
   "metadata": {
    "collapsed": true
   },
   "outputs": [],
   "source": [
    "topics = []\n",
    "for i in topics_matrix:\n",
    "    topics.append(i[1])"
   ]
  },
  {
   "cell_type": "code",
   "execution_count": 77,
   "metadata": {
    "collapsed": false
   },
   "outputs": [],
   "source": [
    "topics\n",
    "topics_only = []\n",
    "for i in topics:\n",
    "    next_topic = []\n",
    "    for element in i:\n",
    "        next_topic.append(element[0])\n",
    "    topics_only.append(next_topic)"
   ]
  },
  {
   "cell_type": "code",
   "execution_count": 78,
   "metadata": {
    "collapsed": false
   },
   "outputs": [
    {
     "name": "stdout",
     "output_type": "stream",
     "text": [
      "['00', 'oct', 'cell', 'dinner', 'wjc', 'tina', 'friday', 'ny', 'fran', 'saturday']\n",
      "['health', 'gun', 'court', 'care', 'woman', 'hangout', 'supreme', 'act', 'site', 'justice']\n",
      "['intended', 'linkedin', 'recipient', 'confidential', 'copy', 'sender', 'error', 'communication', 'attachment', 'notify']\n",
      "['sander', 'candidate', 'republican', 'democratic', 'trump', 'iowa', 'voter', 'democrat', 'bernie', 'vote']\n",
      "['donate', 'united', 'act', 'contribution', 'citizen', 'donation', 'chip', 'election', 'endcitizensunited', 'supporter']\n",
      "['md5', 'actblue', 'contribute', 'secure', 'refcode', 'express', 'true', '25', 'recurring', 'honda']\n",
      "['utm', 'energy', 'climate', 'content', 'link', 'clean', 'site', 'source', 'im', 'ct']\n",
      "['size', 'span', 'class', 'table', 'color', 'margin', 'border', '100', 'knox', 'pub']\n",
      "['school', 'community', 'university', 'program', 'research', 'education', 'project', 'manage', 'track', 'join']\n",
      "['jake', 'jennifer', 'sullivan', 'palmieri', 'dan', 'robby', 'huma', 'grunwald', 'jim', 'kristina']\n",
      "['link', 'washingtonpost', 'flint', 'la', 'nh', 'medium', 'mayor', 'photo', 'sc', 'carolina']\n",
      "['georgetown', 'edu', 'ch', 'jsp', 'r20', 'tn', 'rs6', 'cuba', 'cuban', 'constantcontact']\n",
      "['lot', 'really', 'got', 'life', 'woman', 'believe', 'better', 'asked', 'long', 'story']\n",
      "['eryn', 'feb', 'sepp', 'mar', 'sara', 'jan', 'ipad', 'happy', 'dec', 'cell']\n",
      "['security', 'foreign', 'foundation', 'world', 'united', 'ernment', 'secretary', 'iran', 'war', 'israel']\n",
      "['google', 'calendar', 'javascript', '7d', '7b', 'cvml', 'mfisher', 'milium', 'fisher', 'margolis']\n",
      "['sander', 'trump', 'mccain', 'bernie', 'mms', 'tveyes', 'report', 'aspx', 'clip', 'playbackportal']\n",
      "['cheryl', 'department', 'committee', 'review', 'memo', 'request', 'draft', 'secretary', 'document', 'process']\n",
      "['2f', 'footlocker', '3a', '30a142167a399d9be2c1b7c32e192bd2', 'twitter', 'gmf', 'sid', 'aspx', 'redirect', 'facebook']\n",
      "['tax', 'jan', 'dec', 'trade', 'rate', 'budget', 'reform', 'proposal', 'bank', 'job']\n"
     ]
    }
   ],
   "source": [
    "for i in topics_only:\n",
    "    print (i)"
   ]
  }
 ],
 "metadata": {
  "anaconda-cloud": {},
  "kernelspec": {
   "display_name": "Python [Root]",
   "language": "python",
   "name": "Python [Root]"
  },
  "language_info": {
   "codemirror_mode": {
    "name": "ipython",
    "version": 3
   },
   "file_extension": ".py",
   "mimetype": "text/x-python",
   "name": "python",
   "nbconvert_exporter": "python",
   "pygments_lexer": "ipython3",
   "version": "3.5.2"
  }
 },
 "nbformat": 4,
 "nbformat_minor": 0
}
